{
 "cells": [
  {
   "cell_type": "markdown",
   "metadata": {},
   "source": [
    "# Here our aim is to find out World's best XI with 4-3-3 formation"
   ]
  },
  {
   "cell_type": "markdown",
   "metadata": {},
   "source": [
    "It's time to know which players form the best FIFA XI on the basis of their rating and for this we will be using the dataset of the players along with their ratings for various attributes. So let's see who all make it to the best team."
   ]
  },
  {
   "cell_type": "markdown",
   "metadata": {},
   "source": [
    "<img src = \"FIFA.jpg\" style=\"width:500px\"/>"
   ]
  },
  {
   "cell_type": "markdown",
   "metadata": {},
   "source": [
    "## Importing Libraries"
   ]
  },
  {
   "cell_type": "code",
   "execution_count": 1,
   "metadata": {
    "scrolled": true
   },
   "outputs": [
    {
     "data": {
      "text/html": [
       "<div>\n",
       "<style>\n",
       "    .dataframe thead tr:only-child th {\n",
       "        text-align: right;\n",
       "    }\n",
       "\n",
       "    .dataframe thead th {\n",
       "        text-align: left;\n",
       "    }\n",
       "\n",
       "    .dataframe tbody tr th {\n",
       "        vertical-align: top;\n",
       "    }\n",
       "</style>\n",
       "<table border=\"1\" class=\"dataframe\">\n",
       "  <thead>\n",
       "    <tr style=\"text-align: right;\">\n",
       "      <th></th>\n",
       "      <th>Name</th>\n",
       "      <th>Nationality</th>\n",
       "      <th>National_Position</th>\n",
       "      <th>National_Kit</th>\n",
       "      <th>Club</th>\n",
       "      <th>Club_Position</th>\n",
       "      <th>Club_Kit</th>\n",
       "      <th>Club_Joining</th>\n",
       "      <th>Contract_Expiry</th>\n",
       "      <th>Rating</th>\n",
       "      <th>...</th>\n",
       "      <th>Long_Shots</th>\n",
       "      <th>Curve</th>\n",
       "      <th>Freekick_Accuracy</th>\n",
       "      <th>Penalties</th>\n",
       "      <th>Volleys</th>\n",
       "      <th>GK_Positioning</th>\n",
       "      <th>GK_Diving</th>\n",
       "      <th>GK_Kicking</th>\n",
       "      <th>GK_Handling</th>\n",
       "      <th>GK_Reflexes</th>\n",
       "    </tr>\n",
       "  </thead>\n",
       "  <tbody>\n",
       "    <tr>\n",
       "      <th>0</th>\n",
       "      <td>Cristiano Ronaldo</td>\n",
       "      <td>Portugal</td>\n",
       "      <td>LS</td>\n",
       "      <td>7.0</td>\n",
       "      <td>Real Madrid</td>\n",
       "      <td>LW</td>\n",
       "      <td>7.0</td>\n",
       "      <td>07-01-2009</td>\n",
       "      <td>2021.0</td>\n",
       "      <td>94</td>\n",
       "      <td>...</td>\n",
       "      <td>90</td>\n",
       "      <td>81</td>\n",
       "      <td>76</td>\n",
       "      <td>85</td>\n",
       "      <td>88</td>\n",
       "      <td>14</td>\n",
       "      <td>7</td>\n",
       "      <td>15</td>\n",
       "      <td>11</td>\n",
       "      <td>11</td>\n",
       "    </tr>\n",
       "    <tr>\n",
       "      <th>1</th>\n",
       "      <td>Lionel Messi</td>\n",
       "      <td>Argentina</td>\n",
       "      <td>RW</td>\n",
       "      <td>10.0</td>\n",
       "      <td>FC Barcelona</td>\n",
       "      <td>RW</td>\n",
       "      <td>10.0</td>\n",
       "      <td>07-01-2004</td>\n",
       "      <td>2018.0</td>\n",
       "      <td>93</td>\n",
       "      <td>...</td>\n",
       "      <td>88</td>\n",
       "      <td>89</td>\n",
       "      <td>90</td>\n",
       "      <td>74</td>\n",
       "      <td>85</td>\n",
       "      <td>14</td>\n",
       "      <td>6</td>\n",
       "      <td>15</td>\n",
       "      <td>11</td>\n",
       "      <td>8</td>\n",
       "    </tr>\n",
       "    <tr>\n",
       "      <th>2</th>\n",
       "      <td>Neymar</td>\n",
       "      <td>Brazil</td>\n",
       "      <td>LW</td>\n",
       "      <td>10.0</td>\n",
       "      <td>FC Barcelona</td>\n",
       "      <td>LW</td>\n",
       "      <td>11.0</td>\n",
       "      <td>07-01-2013</td>\n",
       "      <td>2021.0</td>\n",
       "      <td>92</td>\n",
       "      <td>...</td>\n",
       "      <td>77</td>\n",
       "      <td>79</td>\n",
       "      <td>84</td>\n",
       "      <td>81</td>\n",
       "      <td>83</td>\n",
       "      <td>15</td>\n",
       "      <td>9</td>\n",
       "      <td>15</td>\n",
       "      <td>9</td>\n",
       "      <td>11</td>\n",
       "    </tr>\n",
       "    <tr>\n",
       "      <th>3</th>\n",
       "      <td>Luis Suárez</td>\n",
       "      <td>Uruguay</td>\n",
       "      <td>LS</td>\n",
       "      <td>9.0</td>\n",
       "      <td>FC Barcelona</td>\n",
       "      <td>ST</td>\n",
       "      <td>9.0</td>\n",
       "      <td>07-11-2014</td>\n",
       "      <td>2021.0</td>\n",
       "      <td>92</td>\n",
       "      <td>...</td>\n",
       "      <td>86</td>\n",
       "      <td>86</td>\n",
       "      <td>84</td>\n",
       "      <td>85</td>\n",
       "      <td>88</td>\n",
       "      <td>33</td>\n",
       "      <td>27</td>\n",
       "      <td>31</td>\n",
       "      <td>25</td>\n",
       "      <td>37</td>\n",
       "    </tr>\n",
       "    <tr>\n",
       "      <th>4</th>\n",
       "      <td>Manuel Neuer</td>\n",
       "      <td>Germany</td>\n",
       "      <td>GK</td>\n",
       "      <td>1.0</td>\n",
       "      <td>FC Bayern</td>\n",
       "      <td>GK</td>\n",
       "      <td>1.0</td>\n",
       "      <td>07-01-2011</td>\n",
       "      <td>2021.0</td>\n",
       "      <td>92</td>\n",
       "      <td>...</td>\n",
       "      <td>16</td>\n",
       "      <td>14</td>\n",
       "      <td>11</td>\n",
       "      <td>47</td>\n",
       "      <td>11</td>\n",
       "      <td>91</td>\n",
       "      <td>89</td>\n",
       "      <td>95</td>\n",
       "      <td>90</td>\n",
       "      <td>89</td>\n",
       "    </tr>\n",
       "    <tr>\n",
       "      <th>5</th>\n",
       "      <td>De Gea</td>\n",
       "      <td>Spain</td>\n",
       "      <td>GK</td>\n",
       "      <td>1.0</td>\n",
       "      <td>Manchester Utd</td>\n",
       "      <td>GK</td>\n",
       "      <td>1.0</td>\n",
       "      <td>07-01-2011</td>\n",
       "      <td>2019.0</td>\n",
       "      <td>90</td>\n",
       "      <td>...</td>\n",
       "      <td>12</td>\n",
       "      <td>21</td>\n",
       "      <td>19</td>\n",
       "      <td>40</td>\n",
       "      <td>13</td>\n",
       "      <td>86</td>\n",
       "      <td>88</td>\n",
       "      <td>87</td>\n",
       "      <td>85</td>\n",
       "      <td>90</td>\n",
       "    </tr>\n",
       "    <tr>\n",
       "      <th>6</th>\n",
       "      <td>Robert Lewandowski</td>\n",
       "      <td>Poland</td>\n",
       "      <td>LS</td>\n",
       "      <td>9.0</td>\n",
       "      <td>FC Bayern</td>\n",
       "      <td>ST</td>\n",
       "      <td>9.0</td>\n",
       "      <td>07-01-2014</td>\n",
       "      <td>2021.0</td>\n",
       "      <td>90</td>\n",
       "      <td>...</td>\n",
       "      <td>82</td>\n",
       "      <td>77</td>\n",
       "      <td>76</td>\n",
       "      <td>81</td>\n",
       "      <td>86</td>\n",
       "      <td>8</td>\n",
       "      <td>15</td>\n",
       "      <td>12</td>\n",
       "      <td>6</td>\n",
       "      <td>10</td>\n",
       "    </tr>\n",
       "  </tbody>\n",
       "</table>\n",
       "<p>7 rows × 53 columns</p>\n",
       "</div>"
      ],
      "text/plain": [
       "                 Name Nationality National_Position  National_Kit  \\\n",
       "0   Cristiano Ronaldo    Portugal                LS           7.0   \n",
       "1        Lionel Messi   Argentina                RW          10.0   \n",
       "2              Neymar      Brazil                LW          10.0   \n",
       "3         Luis Suárez     Uruguay                LS           9.0   \n",
       "4        Manuel Neuer     Germany                GK           1.0   \n",
       "5              De Gea       Spain                GK           1.0   \n",
       "6  Robert Lewandowski      Poland                LS           9.0   \n",
       "\n",
       "             Club Club_Position  Club_Kit Club_Joining  Contract_Expiry  \\\n",
       "0     Real Madrid            LW       7.0   07-01-2009           2021.0   \n",
       "1    FC Barcelona            RW      10.0   07-01-2004           2018.0   \n",
       "2    FC Barcelona            LW      11.0   07-01-2013           2021.0   \n",
       "3    FC Barcelona            ST       9.0   07-11-2014           2021.0   \n",
       "4       FC Bayern            GK       1.0   07-01-2011           2021.0   \n",
       "5  Manchester Utd            GK       1.0   07-01-2011           2019.0   \n",
       "6       FC Bayern            ST       9.0   07-01-2014           2021.0   \n",
       "\n",
       "   Rating     ...      Long_Shots Curve Freekick_Accuracy Penalties  Volleys  \\\n",
       "0      94     ...              90    81                76        85       88   \n",
       "1      93     ...              88    89                90        74       85   \n",
       "2      92     ...              77    79                84        81       83   \n",
       "3      92     ...              86    86                84        85       88   \n",
       "4      92     ...              16    14                11        47       11   \n",
       "5      90     ...              12    21                19        40       13   \n",
       "6      90     ...              82    77                76        81       86   \n",
       "\n",
       "  GK_Positioning GK_Diving  GK_Kicking  GK_Handling  GK_Reflexes  \n",
       "0             14         7          15           11           11  \n",
       "1             14         6          15           11            8  \n",
       "2             15         9          15            9           11  \n",
       "3             33        27          31           25           37  \n",
       "4             91        89          95           90           89  \n",
       "5             86        88          87           85           90  \n",
       "6              8        15          12            6           10  \n",
       "\n",
       "[7 rows x 53 columns]"
      ]
     },
     "execution_count": 1,
     "metadata": {},
     "output_type": "execute_result"
    }
   ],
   "source": [
    "import pandas as pd\n",
    "import matplotlib as plt\n",
    "import seaborn as sns\n",
    "import numpy as np\n",
    "% matplotlib inline\n",
    "\n",
    "df = pd.read_csv(\"FullData.csv\")\n",
    "df.head(7)"
   ]
  },
  {
   "cell_type": "markdown",
   "metadata": {},
   "source": [
    "## Exploratory Data Analyis "
   ]
  },
  {
   "cell_type": "code",
   "execution_count": 2,
   "metadata": {},
   "outputs": [
    {
     "data": {
      "text/plain": [
       "<matplotlib.axes._subplots.AxesSubplot at 0x1fa14733160>"
      ]
     },
     "execution_count": 2,
     "metadata": {},
     "output_type": "execute_result"
    },
    {
     "data": {
      "image/png": "[encoded data removed]",
      "text/plain": [
       "<matplotlib.figure.Figure at 0x1fa14733978>"
      ]
     },
     "metadata": {},
     "output_type": "display_data"
    }
   ],
   "source": [
    "plt.figure.Figure(figsize=(40,60))\n",
    "\n",
    "plt.rcParams['xtick.labelsize'] = 10\n",
    "plt.rcParams['ytick.labelsize'] = 6\n",
    "\n",
    "sns.countplot(y = df.head(150).Nationality,palette=\"Set2\") #plotting all the nations on x axis"
   ]
  },
  {
   "cell_type": "markdown",
   "metadata": {},
   "source": [
    "In the above graph we see that the most of the players in the dataset in initial part are from Spain."
   ]
  },
  {
   "cell_type": "code",
   "execution_count": 3,
   "metadata": {},
   "outputs": [
    {
     "data": {
      "image/png": "[encoded data removed]",
      "text/plain": [
       "<matplotlib.figure.Figure at 0x1fa14a0b908>"
      ]
     },
     "metadata": {},
     "output_type": "display_data"
    }
   ],
   "source": [
    "plt.figure.Figure(figsize=(15,6))\n",
    "\n",
    "sns.countplot(x='Age',data=df)\n",
    "\n",
    "plt.rcParams['xtick.labelsize'] = 10\n",
    "plt.rcParams['ytick.labelsize'] = 15"
   ]
  },
  {
   "cell_type": "markdown",
   "metadata": {},
   "source": [
    "With the bar chart, we get to know that the most of the players of the dataset are from \"Age 25\" and the Age group with maximum players is \"Age 20 - 29\" "
   ]
  },
  {
   "cell_type": "code",
   "execution_count": 4,
   "metadata": {
    "collapsed": true
   },
   "outputs": [],
   "source": [
    "#Assigning weights to the variables for normalization purposes\n",
    "a = 0.5\n",
    "b = 1\n",
    "c = 2\n",
    "d = 3"
   ]
  },
  {
   "cell_type": "markdown",
   "metadata": {},
   "source": [
    "## Selecting the Best Keeper for the team"
   ]
  },
  {
   "cell_type": "code",
   "execution_count": 5,
   "metadata": {
    "collapsed": true
   },
   "outputs": [],
   "source": [
    "#Goal Keeping Characteristics\n",
    "df['gk_Shot_Stopper'] = (b*df.Reactions + b*df.Composure + a*df.Speed + a*df.Strength + c*df.Jumping + b*df.GK_Positioning + c*df.GK_Diving + d*df.GK_Reflexes + c*df.GK_Handling)/(2*a + 4*b + 2*c + 1*d)\n",
    "df['gk_Sweeper'] = (b*df.Reactions + b*df.Composure + a*df.Speed + a*df.Short_Pass + a*df.Long_Pass + b*df.Jumping + b*df.GK_Positioning + b*df.GK_Diving + d*df.GK_Reflexes + c*df.GK_Handling + d*df.Vision)/(2*a + 4*b + 2*c + 1*d)"
   ]
  },
  {
   "cell_type": "code",
   "execution_count": 6,
   "metadata": {},
   "outputs": [
    {
     "data": {
      "text/plain": [
       "<matplotlib.axes._subplots.AxesSubplot at 0x1fa14db08d0>"
      ]
     },
     "execution_count": 6,
     "metadata": {},
     "output_type": "execute_result"
    },
    {
     "data": {
      "image/png": "[encoded data removed]",
      "text/plain": [
       "<matplotlib.figure.Figure at 0x1fa14db0550>"
      ]
     },
     "metadata": {},
     "output_type": "display_data"
    }
   ],
   "source": [
    "plt.figure.Figure(figsize=(15,6))\n",
    "\n",
    "#Generating Sequential data and plot\n",
    "sd1 = df.sort_values('gk_Shot_Stopper',ascending=False)[:5]\n",
    "y1 = np.array(list(sd1['Name']))\n",
    "x1 = np.array(list(sd1['gk_Shot_Stopper']))\n",
    "\n",
    "sns.barplot(x1,y1,palette='colorblind')\n",
    "#plt.rcParmams.ylabel('Shot Stopping Score')"
   ]
  },
  {
   "cell_type": "markdown",
   "metadata": {},
   "source": [
    "The goal keeper which is best at stopping shots is Manual Neuer."
   ]
  },
  {
   "cell_type": "code",
   "execution_count": 7,
   "metadata": {},
   "outputs": [
    {
     "data": {
      "text/plain": [
       "<matplotlib.axes._subplots.AxesSubplot at 0x1fa14a7ed68>"
      ]
     },
     "execution_count": 7,
     "metadata": {},
     "output_type": "execute_result"
    },
    {
     "data": {
      "image/png": "[encoded data removed]",
      "text/plain": [
       "<matplotlib.figure.Figure at 0x1fa14a5f7b8>"
      ]
     },
     "metadata": {},
     "output_type": "display_data"
    }
   ],
   "source": [
    "plt.figure.Figure(figsize=(15,6))\n",
    "\n",
    "#Generating Sequential data and plot\n",
    "sd1 = df.sort_values('gk_Sweeper',ascending=False)[:5]\n",
    "y1 = np.array(list(sd1['Name']))\n",
    "x1 = np.array(list(sd1['gk_Sweeper']))\n",
    "\n",
    "sns.barplot(x1,y1,palette='colorblind')"
   ]
  },
  {
   "cell_type": "markdown",
   "metadata": {},
   "source": [
    "The goal keeper with best sweeping skills is Manuel Neuer.\n",
    "\n",
    "So the best goal keeper for the team is \"Manuel Neuer\""
   ]
  },
  {
   "cell_type": "markdown",
   "metadata": {},
   "source": [
    "<img src = \"Pictures\\Manuel Neuer.PNG\">"
   ]
  },
  {
   "cell_type": "markdown",
   "metadata": {},
   "source": [
    "## Selecting the 4 Best defenders for the team"
   ]
  },
  {
   "cell_type": "code",
   "execution_count": 8,
   "metadata": {
    "collapsed": true
   },
   "outputs": [],
   "source": [
    "# Choosing Defenders\n",
    "\n",
    "df['df_centre_backs'] = (d*df.Reactions + c*df.Interceptions + d*df.Sliding_Tackle + d*df.Standing_Tackle + b*df.Vision + b*df.Composure + b*df.Crossing + a*df.Short_Pass + b*df.Long_Pass + c*df.Acceleration + b*df.Speed + \n",
    "                         d*df.Stamina + d*df.Jumping + d*df.Heading + b*df.Long_Shots + d*df.Marking + c*df.Aggression\n",
    "                        )/(6*b + 3*c + 7*d)\n",
    "\n",
    "\n",
    "df['df_wb_Wing_backs'] = (b*df.Ball_Control + a*df.Dribbling + a*df.Marking + d*df.Sliding_Tackle + d*df.Standing_Tackle + a*df.Attacking_Position + c*df.Vision + c*df.Crossing + b*df.Short_Pass + c*df.Long_Pass + d*df.Acceleration + d*df.Speed + c*df.Stamina + a*df.Finishing)/(4*a + 3*b + 4*c + 3*d)"
   ]
  },
  {
   "cell_type": "code",
   "execution_count": 9,
   "metadata": {},
   "outputs": [
    {
     "data": {
      "text/plain": [
       "<matplotlib.axes._subplots.AxesSubplot at 0x1fa14d8dac8>"
      ]
     },
     "execution_count": 9,
     "metadata": {},
     "output_type": "execute_result"
    },
    {
     "data": {
      "image/png": "[encoded data removed]",
      "text/plain": [
       "<matplotlib.figure.Figure at 0x1fa14daee10>"
      ]
     },
     "metadata": {},
     "output_type": "display_data"
    }
   ],
   "source": [
    "#PLot left centre back\n",
    "\n",
    "plt.figure.Figure(figsize=(15,6))\n",
    "sd = df[(df['National_Position'] == 'LCB')].sort_values('df_centre_backs',ascending=False)[:5]\n",
    "x2 = np.array(list(sd['df_centre_backs']))\n",
    "y2 = np.array(list(sd['Name']))\n",
    "sns.barplot(x2,y2,palette=sns.color_palette('magma'))"
   ]
  },
  {
   "cell_type": "markdown",
   "metadata": {},
   "source": [
    "<img src = \"Pictures\\Sergio Ramos.PNG\">"
   ]
  },
  {
   "cell_type": "markdown",
   "metadata": {},
   "source": [
    "The best left centre back is \"Sergio Ramos\""
   ]
  },
  {
   "cell_type": "code",
   "execution_count": 10,
   "metadata": {},
   "outputs": [
    {
     "data": {
      "text/plain": [
       "<matplotlib.axes._subplots.AxesSubplot at 0x1fa14d51eb8>"
      ]
     },
     "execution_count": 10,
     "metadata": {},
     "output_type": "execute_result"
    },
    {
     "data": {
      "image/png": "[encoded data removed]",
      "text/plain": [
       "<matplotlib.figure.Figure at 0x1fa14d8b588>"
      ]
     },
     "metadata": {},
     "output_type": "display_data"
    }
   ],
   "source": [
    "#PLot right centre back\n",
    "\n",
    "plt.figure.Figure(figsize=(15,6))\n",
    "sd = df[(df['National_Position'] == 'RCB')].sort_values('df_centre_backs',ascending=False)[:5]\n",
    "x2 = np.array(list(sd['df_centre_backs']))\n",
    "y2 = np.array(list(sd['Name']))\n",
    "sns.barplot(x2,y2,palette=sns.color_palette('magma'))"
   ]
  },
  {
   "cell_type": "markdown",
   "metadata": {},
   "source": [
    "<img src = \"Pictures\\Jerome Boateng.PNG\">"
   ]
  },
  {
   "cell_type": "markdown",
   "metadata": {},
   "source": [
    "The Best right centre back is \"Jerome Boateng\""
   ]
  },
  {
   "cell_type": "code",
   "execution_count": 11,
   "metadata": {},
   "outputs": [
    {
     "data": {
      "text/plain": [
       "<matplotlib.axes._subplots.AxesSubplot at 0x1fa14eb71d0>"
      ]
     },
     "execution_count": 11,
     "metadata": {},
     "output_type": "execute_result"
    },
    {
     "data": {
      "image/png": "[encoded data removed]",
      "text/plain": [
       "<matplotlib.figure.Figure at 0x1fa14e03e80>"
      ]
     },
     "metadata": {},
     "output_type": "display_data"
    }
   ],
   "source": [
    "#Plot left wing back\n",
    "\n",
    "plt.figure.Figure(figsize=(15,6))\n",
    "sd = df[(df['National_Position'] == 'LB')].sort_values('df_centre_backs',ascending=False)[:5]\n",
    "x2 = np.array(list(sd['df_centre_backs']))\n",
    "y2 = np.array(list(sd['Name']))\n",
    "sns.barplot(x2,y2,palette=sns.color_palette('inferno'))"
   ]
  },
  {
   "cell_type": "markdown",
   "metadata": {},
   "source": [
    "<img src = \"Pictures\\Jordi Alba.PNG\">"
   ]
  },
  {
   "cell_type": "markdown",
   "metadata": {},
   "source": [
    "The best left wing back is \"Jordi Alba\""
   ]
  },
  {
   "cell_type": "code",
   "execution_count": 12,
   "metadata": {},
   "outputs": [
    {
     "data": {
      "text/plain": [
       "<matplotlib.axes._subplots.AxesSubplot at 0x1fa14f066a0>"
      ]
     },
     "execution_count": 12,
     "metadata": {},
     "output_type": "execute_result"
    },
    {
     "data": {
      "image/png": "[encoded data removed]",
      "text/plain": [
       "<matplotlib.figure.Figure at 0x1fa14efb7f0>"
      ]
     },
     "metadata": {},
     "output_type": "display_data"
    }
   ],
   "source": [
    "#PLot right wing back\n",
    "\n",
    "plt.figure.Figure(figsize=(15,6))\n",
    "sd = df[(df['National_Position'] == 'RB')].sort_values('df_centre_backs',ascending=False)[:5]\n",
    "x2 = np.array(list(sd['df_centre_backs']))\n",
    "y2 = np.array(list(sd['Name']))\n",
    "sns.barplot(x2,y2,palette=sns.color_palette('inferno'))"
   ]
  },
  {
   "cell_type": "markdown",
   "metadata": {},
   "source": [
    "<img src = \"Pictures\\Serge Aurier.PNG\">"
   ]
  },
  {
   "cell_type": "markdown",
   "metadata": {},
   "source": [
    "The best right back is \"Serge Aurier\""
   ]
  },
  {
   "cell_type": "markdown",
   "metadata": {},
   "source": [
    "# Selecting the 3 Best Midfielders for the team"
   ]
  },
  {
   "cell_type": "code",
   "execution_count": 13,
   "metadata": {
    "collapsed": true
   },
   "outputs": [],
   "source": [
    "#Midfielder Roles\n",
    "\n",
    "df['mf_left_mid'] = (b*df.Weak_foot + d*df.Ball_Control + a*df.Dribbling + a*df.Marking + a*df.Reactions + c*df.Vision + c*df.Composure + d*df.Short_Pass + d*df.Long_Pass)/(3*c + 3*d + 4*a)\n",
    "df['mf_playmaker'] = (d*df.Ball_Control + d*df.Dribbling + a*df.Marking + d*df.Reactions + d*df.Vision + c*df.Attacking_Position + c*df.Crossing + d*df.Short_Pass + c*df.Long_Pass + c*df.Curve + b*df.Long_Shots + c*df.Freekick_Accuracy)/(4*b + 4*c + 3*d + 4*a)\n",
    "df['mf_right_mid'] = (d*df.Agility + c*df.Balance + b*df.Jumping + c*df.Strength + d*df.Stamina + a*df.Speed + c*df.Acceleration + d*df.Short_Pass + d*df.Aggression + d*df.Reactions + b*df.Marking + b*df.Standing_Tackle + b*df.Sliding_Tackle)/(2*b + 3*c + 4*d + 4*a)"
   ]
  },
  {
   "cell_type": "code",
   "execution_count": 14,
   "metadata": {},
   "outputs": [
    {
     "data": {
      "text/plain": [
       "<matplotlib.axes._subplots.AxesSubplot at 0x1fa14fd2a90>"
      ]
     },
     "execution_count": 14,
     "metadata": {},
     "output_type": "execute_result"
    },
    {
     "data": {
      "image/png": "[encoded data removed]",
      "text/plain": [
       "<matplotlib.figure.Figure at 0x1fa14d9d4a8>"
      ]
     },
     "metadata": {},
     "output_type": "display_data"
    }
   ],
   "source": [
    "#Plotting the midfielders i.e. left Midfielder\n",
    "\n",
    "plt.figure.Figure(figsize=(15,6))\n",
    "\n",
    "#Generating sequential data\n",
    "ss = df[(df['National_Position'] == 'LCM') | (df['Club_Position'] == 'LW')| (df['National_Position'] == 'LM')].sort_values('mf_left_mid',ascending=False)[:5]\n",
    "x1 = np.array(list(ss['mf_left_mid']))\n",
    "y1 = np.array(list(ss['Name']))\n",
    "sns.barplot(x1,y1,palette=sns.diverging_palette(145,280,s=85,l=25,n=5))"
   ]
  },
  {
   "cell_type": "markdown",
   "metadata": {},
   "source": [
    "<img src = \"Pictures\\Iniesta.PNG\">"
   ]
  },
  {
   "cell_type": "markdown",
   "metadata": {},
   "source": [
    "The best left midfielder is \"Iniesta\""
   ]
  },
  {
   "cell_type": "code",
   "execution_count": 15,
   "metadata": {},
   "outputs": [
    {
     "data": {
      "text/plain": [
       "<matplotlib.axes._subplots.AxesSubplot at 0x1fa1500eda0>"
      ]
     },
     "execution_count": 15,
     "metadata": {},
     "output_type": "execute_result"
    },
    {
     "data": {
      "image/png": "[encoded data removed]",
      "text/plain": [
       "<matplotlib.figure.Figure at 0x1fa1503e7f0>"
      ]
     },
     "metadata": {},
     "output_type": "display_data"
    }
   ],
   "source": [
    "#Plotting the midfielders i.e. Centre Attacking Midfielder\n",
    "\n",
    "plt.figure.Figure(figsize=(15,6))\n",
    "\n",
    "#Generating sequential data\n",
    "ss = df[(df['National_Position'] == 'CAM') | (df['National_Position'] == 'RAM') | (df['National_Position'] == 'LAM')].sort_values('mf_playmaker',ascending=False)[:5]\n",
    "x1 = np.array(list(ss['mf_playmaker']))\n",
    "y1 = np.array(list(ss['Name']))\n",
    "sns.barplot(x1,y1,palette=sns.diverging_palette(145,280,s=85,l=25,n=5))"
   ]
  },
  {
   "cell_type": "markdown",
   "metadata": {},
   "source": [
    "<img src = \"Pictures\\Mesut Ozil.PNG\">"
   ]
  },
  {
   "cell_type": "markdown",
   "metadata": {},
   "source": [
    "The best playmaker is \"Mesut Ozil\""
   ]
  },
  {
   "cell_type": "code",
   "execution_count": 16,
   "metadata": {},
   "outputs": [
    {
     "data": {
      "text/plain": [
       "<matplotlib.axes._subplots.AxesSubplot at 0x1fa15083fd0>"
      ]
     },
     "execution_count": 16,
     "metadata": {},
     "output_type": "execute_result"
    },
    {
     "data": {
      "image/png": "[encoded data removed]",
      "text/plain": [
       "<matplotlib.figure.Figure at 0x1fa15026748>"
      ]
     },
     "metadata": {},
     "output_type": "display_data"
    }
   ],
   "source": [
    "#Plotting the midfielders i.e. Right Midfielder\n",
    "\n",
    "plt.figure.Figure(figsize=(15,6))\n",
    "\n",
    "#Generating sequential data\n",
    "ss = df[(df['Club_Position'] == 'RCM') | (df['Club_Position'] == 'RW')| (df['Club_Position'] == 'RM')].sort_values('mf_right_mid',ascending=False)[:5]\n",
    "x1 = np.array(list(ss['mf_right_mid']))\n",
    "y1 = np.array(list(ss['Name']))\n",
    "sns.barplot(x1,y1,palette=sns.diverging_palette(145,280,s=85,l=25,n=5))"
   ]
  },
  {
   "cell_type": "markdown",
   "metadata": {},
   "source": [
    "<img src = \"Pictures\\N'Golo Kante.PNG\">"
   ]
  },
  {
   "cell_type": "markdown",
   "metadata": {},
   "source": [
    "The best right midfielder is \"N'Golo Kante\""
   ]
  },
  {
   "cell_type": "markdown",
   "metadata": {},
   "source": [
    "## Selecting the 3 best attackers for the team."
   ]
  },
  {
   "cell_type": "code",
   "execution_count": 17,
   "metadata": {
    "collapsed": true
   },
   "outputs": [],
   "source": [
    "#Attackers\n",
    "\n",
    "df['att_left_wing'] = (c*df.Weak_foot + c*df.Ball_Control + c*df.Dribbling + c*df.Speed + d*df.Acceleration + b*df.Vision + c*df.Crossing + b*df.Short_Pass + b*df.Long_Pass + b*df.Aggression + b*df.Agility + a*df.Curve + c*df.Long_Shots + b*df.Freekick_Accuracy + d*df.Finishing)/(4*a + 3*b + 3*c + 3*d)\n",
    "df['att_right_wing'] = (c*df.Weak_foot + c*df.Ball_Control + c*df.Dribbling + c*df.Speed + d*df.Acceleration + b*df.Vision + c*df.Crossing + b*df.Short_Pass + b*df.Long_Pass + b*df.Aggression + b*df.Agility + a*df.Curve + c*df.Long_Shots + b*df.Freekick_Accuracy + d*df.Finishing)/(4*a + 3*b + 3*c + 3*d)\n",
    "df['att_striker'] = (b*df.Weak_foot + b*df.Ball_Control + a*df.Vision + b*df.Aggression + b*df.Agility + a*df.Curve + a*df.Long_Shots + d*df.Balance + d*df.Finishing + d*df.Heading + c*df.Jumping + c*df.Dribbling)/(2*a + 4*b + 4*c + 3*d)"
   ]
  },
  {
   "cell_type": "code",
   "execution_count": 18,
   "metadata": {},
   "outputs": [
    {
     "data": {
      "text/plain": [
       "<matplotlib.axes._subplots.AxesSubplot at 0x1fa150c19e8>"
      ]
     },
     "execution_count": 18,
     "metadata": {},
     "output_type": "execute_result"
    },
    {
     "data": {
      "image/png": "[encoded data removed]",
      "text/plain": [
       "<matplotlib.figure.Figure at 0x1fa150d67f0>"
      ]
     },
     "metadata": {},
     "output_type": "display_data"
    }
   ],
   "source": [
    "#Plotting Left Winger\n",
    "\n",
    "plt.figure.Figure(figsize=(15,6))\n",
    "\n",
    "ss = df[(df['National_Position'] == 'LW') | (df['National_Position'] == 'LM') | (df['National_Position'] == 'LS')].sort_values('att_left_wing',ascending=False)[:5]\n",
    "x1 = np.array(list(ss['att_left_wing']))\n",
    "y1 = np.array(list(ss['Name']))\n",
    "sns.barplot(x1,y1,palette=sns.diverging_palette(255,133,l=60,n=5,center='dark'))"
   ]
  },
  {
   "cell_type": "markdown",
   "metadata": {},
   "source": [
    "<img src = \"Pictures\\Cristiano Ronaldo.PNG\">"
   ]
  },
  {
   "cell_type": "markdown",
   "metadata": {},
   "source": [
    "The best left winger is \"Cristiano Ronaldo\""
   ]
  },
  {
   "cell_type": "code",
   "execution_count": 19,
   "metadata": {},
   "outputs": [
    {
     "data": {
      "text/plain": [
       "<matplotlib.axes._subplots.AxesSubplot at 0x1fa152bc240>"
      ]
     },
     "execution_count": 19,
     "metadata": {},
     "output_type": "execute_result"
    },
    {
     "data": {
      "image/png": "[encoded data removed]",
      "text/plain": [
       "<matplotlib.figure.Figure at 0x1fa10b99be0>"
      ]
     },
     "metadata": {},
     "output_type": "display_data"
    }
   ],
   "source": [
    "#Plotting Right Winger\n",
    "\n",
    "plt.figure.Figure(figsize=(15,6))\n",
    "\n",
    "ss = df[(df['National_Position'] == 'RW') | (df['National_Position'] == 'RM') | (df['National_Position'] == 'RS')].sort_values('att_right_wing',ascending=False)[:5]\n",
    "x1 = np.array(list(ss['att_right_wing']))\n",
    "y1 = np.array(list(ss['Name']))\n",
    "sns.barplot(x1,y1,palette=sns.diverging_palette(255,133,l=60,n=5,center='dark'))"
   ]
  },
  {
   "cell_type": "markdown",
   "metadata": {},
   "source": [
    "<img src = \"Pictures\\Lionel Messi.PNG\">"
   ]
  },
  {
   "cell_type": "markdown",
   "metadata": {},
   "source": [
    "The best right winger is \"Lionel Messi\""
   ]
  },
  {
   "cell_type": "code",
   "execution_count": 20,
   "metadata": {},
   "outputs": [
    {
     "data": {
      "text/plain": [
       "<matplotlib.axes._subplots.AxesSubplot at 0x1fa1516f940>"
      ]
     },
     "execution_count": 20,
     "metadata": {},
     "output_type": "execute_result"
    },
    {
     "data": {
      "image/png": "[encoded data removed]",
      "text/plain": [
       "<matplotlib.figure.Figure at 0x1fa15115940>"
      ]
     },
     "metadata": {},
     "output_type": "display_data"
    }
   ],
   "source": [
    "#Plotting Striker\n",
    "\n",
    "plt.figure.Figure(figsize=(15,6))\n",
    "\n",
    "ss = df[(df['National_Position'] == 'ST') | (df['National_Position'] == 'LS') | (df['National_Position'] == 'RS')].sort_values('att_striker',ascending=False)[:5]\n",
    "x1 = np.array(list(ss['att_striker']))\n",
    "y1 = np.array(list(ss['Name']))\n",
    "sns.barplot(x1,y1,palette=sns.diverging_palette(255,133,l=60,n=5,center='dark'))"
   ]
  },
  {
   "cell_type": "markdown",
   "metadata": {},
   "source": [
    "Here Cristiano Ronaldo and Robert Lewandowski have same values, therefore we will choose \"Robert Lewandowski\" \n",
    "since we have Ronaldo as the left winger"
   ]
  },
  {
   "cell_type": "markdown",
   "metadata": {
    "collapsed": true
   },
   "source": [
    "<img src = \"Pictures\\Robert Lewandowski.PNG\"/>\n"
   ]
  },
  {
   "cell_type": "markdown",
   "metadata": {},
   "source": [
    "So now we have created the final lineup of the World's Best XI and here is the team with the formation which we have obtained."
   ]
  },
  {
   "cell_type": "markdown",
   "metadata": {},
   "source": [
    "<img src = \"World_BEST_XI.PNG\" style=\"width:500px\"/>"
   ]
  },
  {
   "cell_type": "code",
   "execution_count": null,
   "metadata": {
    "collapsed": true
   },
   "outputs": [],
   "source": []
  }
 ],
 "metadata": {
  "kernelspec": {
   "display_name": "Python 3",
   "language": "python",
   "name": "python3"
  },
  "language_info": {
   "codemirror_mode": {
    "name": "ipython",
    "version": 3
   },
   "file_extension": ".py",
   "mimetype": "text/x-python",
   "name": "python",
   "nbconvert_exporter": "python",
   "pygments_lexer": "ipython3",
   "version": "3.6.0"
  }
 },
 "nbformat": 4,
 "nbformat_minor": 2
}
